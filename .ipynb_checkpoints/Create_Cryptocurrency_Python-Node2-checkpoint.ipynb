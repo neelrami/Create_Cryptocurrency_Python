{
 "cells": [
  {
   "cell_type": "code",
   "execution_count": 1,
   "metadata": {},
   "outputs": [
    {
     "name": "stdout",
     "output_type": "stream",
     "text": [
      "2.7.14 |Anaconda, Inc.| (default, Oct 15 2017, 03:34:40) [MSC v.1500 64 bit (AMD64)]\n"
     ]
    }
   ],
   "source": [
    "import sys\n",
    "print(sys.version)"
   ]
  },
  {
   "cell_type": "markdown",
   "metadata": {},
   "source": [
    "# Importing Libraries"
   ]
  },
  {
   "cell_type": "code",
   "execution_count": 2,
   "metadata": {
    "collapsed": true
   },
   "outputs": [],
   "source": [
    "import json\n",
    "import datetime\n",
    "import hashlib\n",
    "from flask import Flask,jsonify\n",
    "import requests\n",
    "from uuid import uuid4\n",
    "from urlparse import urlparse"
   ]
  },
  {
   "cell_type": "markdown",
   "metadata": {},
   "source": [
    "# Creating Blockchain Class"
   ]
  },
  {
   "cell_type": "code",
   "execution_count": 3,
   "metadata": {
    "collapsed": true
   },
   "outputs": [],
   "source": [
    "class BlockChain:\n",
    "    def __init__(self):\n",
    "        \n",
    "        # list to contain blocks of blockchain\n",
    "        self.chain=[] \n",
    "        \n",
    "        # list to contain all the transactions\n",
    "        self.transactions=[]\n",
    "        \n",
    "        # method is declared inside init because we want to create genesis block when the blockchain is initialized.\n",
    "        self.create_block(nonce=1,previous_hash='0')\n",
    "        \n",
    "        # A set to contain all nodes in the network\n",
    "        self.nodes = set()\n",
    "        \n",
    "    def my_dict(self, somedict, somekeys):\n",
    "        return dict([ (k, somedict[k]) for k in somekeys ])\n",
    "    \n",
    "    # method to create hash of block\n",
    "    def hash_block(self, block):\n",
    "        somekeys=['index','timestamp','nonce','previous_hash']\n",
    "        truncated_block=self.my_dict(block,somekeys)\n",
    "        encoded_block = json.dumps(truncated_block, sort_keys = True).encode()\n",
    "        return hashlib.sha256(encoded_block).hexdigest()\n",
    "    \n",
    "    # method to create blocks of blockchain\n",
    "    def create_block(self, nonce, previous_hash):\n",
    "        block={'index':len(self.chain)+1,\n",
    "              'timestamp': str(datetime.datetime.now()),\n",
    "              'nonce':nonce,\n",
    "              'previous_hash':previous_hash,\n",
    "              'transactions' : self.transactions}\n",
    "        self.transactions=[]\n",
    "        current_hash=self.hash_block(block)\n",
    "        block.update({'current_hash':current_hash})\n",
    "        self.chain.append(block)\n",
    "        return block\n",
    "    \n",
    "    # method to get last block of blockchain\n",
    "    def get_previous_block(self):\n",
    "        return self.chain[-1]\n",
    "        \n",
    "    # method which states cryptographic puzzle.This puzzle needs to be solved by miners inorder to get the nonce.\n",
    "    def cryptographic_puzzle(self, previous_proof):\n",
    "        new_proof = 1\n",
    "        check_proof = False\n",
    "        while check_proof is False:\n",
    "            hash_operation = hashlib.sha256(str(new_proof**2 - previous_proof**2).encode()).hexdigest()\n",
    "            if hash_operation[:4] == '0000':\n",
    "                check_proof = True\n",
    "            else:\n",
    "                new_proof += 1\n",
    "        return new_proof\n",
    "    \n",
    "    # method to check if the blockchain is valid or not\n",
    "    def is_chain_valid(self, chain):\n",
    "        previous_block = chain[0]\n",
    "        block_index = 1\n",
    "        while block_index < len(chain):\n",
    "            block = chain[block_index]\n",
    "            if block['previous_hash'] != self.hash(previous_block):\n",
    "                return False\n",
    "            previous_proof = previous_block['proof']\n",
    "            proof = block['proof']\n",
    "            hash_operation = hashlib.sha256(str(proof**2 - previous_proof**2).encode()).hexdigest()\n",
    "            if hash_operation[:4] != '0000':\n",
    "                return False\n",
    "            previous_block = block\n",
    "            block_index += 1\n",
    "        return True\n",
    "\n",
    "    # method to add transaction in a block of blockchain\n",
    "    def add_transaction(self, sender, receiver, amount):\n",
    "        self.transactions.append({'sender': sender,\n",
    "                                  'receiver': receiver,\n",
    "                                  'amount': amount})\n",
    "        previous_block = self.get_previous_block()\n",
    "        return previous_block['index'] + 1\n",
    "    \n",
    "    # method to add node to our network\n",
    "    def add_node(self, address):\n",
    "        parsed_url = urlparse(address)\n",
    "        self.nodes.add(parsed_url.netloc)\n",
    "    \n",
    "    def replace_chain(self):\n",
    "        network = self.nodes\n",
    "        longest_chain = None\n",
    "        max_length = len(self.chain)\n",
    "        for node in network:\n",
    "            myStr=\"http://\"+str(node)+\"/get_chain\"\n",
    "            response = requests.get(myStr)\n",
    "            if response.status_code == 200:\n",
    "                length = response.json()['length']\n",
    "                chain = response.json()['chain']\n",
    "                if length > max_length and self.is_chain_valid(chain):\n",
    "                    max_length = length\n",
    "                    longest_chain = chain\n",
    "        if longest_chain:\n",
    "            self.chain = longest_chain\n",
    "            return True\n",
    "        return False"
   ]
  },
  {
   "cell_type": "markdown",
   "metadata": {
    "collapsed": true
   },
   "source": [
    "# Creating Web Application"
   ]
  },
  {
   "cell_type": "code",
   "execution_count": 4,
   "metadata": {
    "collapsed": true
   },
   "outputs": [],
   "source": [
    "app = Flask(__name__)"
   ]
  },
  {
   "cell_type": "markdown",
   "metadata": {},
   "source": [
    "# Creating Blockchain"
   ]
  },
  {
   "cell_type": "code",
   "execution_count": 5,
   "metadata": {
    "collapsed": true
   },
   "outputs": [],
   "source": [
    "blockchain = BlockChain()"
   ]
  },
  {
   "cell_type": "code",
   "execution_count": 6,
   "metadata": {
    "collapsed": true
   },
   "outputs": [],
   "source": [
    "@app.route('/mine_block', methods = ['GET'])\n",
    "def mine_block():\n",
    "    previous_block = blockchain.get_previous_block()\n",
    "    previous_nonce = previous_block['nonce']\n",
    "    nonce = blockchain.cryptographic_puzzle(previous_nonce)\n",
    "    previous_hash = blockchain.hash_block(previous_block)\n",
    "    block = blockchain.create_block(nonce, previous_hash)\n",
    "    response = {'message': 'Block mined successfully!',\n",
    "                'index': block['index'],\n",
    "                'timestamp': block['timestamp'],\n",
    "                'nonce': block['nonce'],\n",
    "                'previous_hash': block['previous_hash'],\n",
    "                'current_hash': block['current_hash'],\n",
    "                'transactions':block['transactions']}\n",
    "    return jsonify(response), 200"
   ]
  },
  {
   "cell_type": "code",
   "execution_count": 7,
   "metadata": {
    "collapsed": true
   },
   "outputs": [],
   "source": [
    "@app.route('/get_chain', methods = ['GET'])\n",
    "def get_chain():\n",
    "    response = {'chain': blockchain.chain,\n",
    "                'length': len(blockchain.chain)}\n",
    "    return jsonify(response), 200"
   ]
  },
  {
   "cell_type": "code",
   "execution_count": 8,
   "metadata": {
    "collapsed": true
   },
   "outputs": [],
   "source": [
    "@app.route('/is_valid', methods = ['GET'])\n",
    "def is_valid():\n",
    "    is_valid = blockchain.is_chain_valid(blockchain.chain)\n",
    "    if is_valid:\n",
    "        response = {'message': 'The Blockchain is valid.'}\n",
    "    else:\n",
    "        response = {'message': 'The Blockchain is not valid.'}\n",
    "    return jsonify(response), 200"
   ]
  },
  {
   "cell_type": "code",
   "execution_count": 9,
   "metadata": {
    "collapsed": true
   },
   "outputs": [],
   "source": [
    "@app.route('/add_transaction', methods = ['POST'])\n",
    "def add_transaction():\n",
    "    json = request.get_json()\n",
    "    transactionKeys = ['sender', 'receiver', 'amount']\n",
    "    if not all(key in json for key in transactionKeys):\n",
    "        return 'Some elements of the transaction are missing', 400\n",
    "    index = blockchain.add_transaction(json['sender'], json['receiver'], json['amount'])\n",
    "    responseString='Transaction added to block '+str(index)+\".\"\n",
    "    response = {'message': responseString}\n",
    "    return jsonify(response), 201"
   ]
  },
  {
   "cell_type": "code",
   "execution_count": 10,
   "metadata": {
    "collapsed": true
   },
   "outputs": [],
   "source": [
    "@app.route('/connect_node', methods = ['POST'])\n",
    "def connect_node():\n",
    "    json = request.get_json()\n",
    "    nodes = json.get('nodes')\n",
    "    if nodes is None:\n",
    "        return \"No node\", 400\n",
    "    for node in nodes:\n",
    "        blockchain.add_node(node)\n",
    "    response = {'message': 'All the nodes are now connected. The Blockchain now contains the following nodes:',\n",
    "                'total_nodes': list(blockchain.nodes)}\n",
    "    return jsonify(response), 201"
   ]
  },
  {
   "cell_type": "code",
   "execution_count": 11,
   "metadata": {
    "collapsed": true
   },
   "outputs": [],
   "source": [
    "@app.route('/replace_chain', methods = ['GET'])\n",
    "def replace_chain():\n",
    "    is_chain_replaced = blockchain.replace_chain()\n",
    "    if is_chain_replaced:\n",
    "        response = {'message': 'The nodes had different chains so the chain was replaced by the longest one.',\n",
    "                    'new_chain': blockchain.chain}\n",
    "    else:\n",
    "        response = {'message': 'All good. The chain is the largest one.',\n",
    "                    'actual_chain': blockchain.chain}\n",
    "    return jsonify(response), 200"
   ]
  },
  {
   "cell_type": "code",
   "execution_count": null,
   "metadata": {},
   "outputs": [
    {
     "name": "stderr",
     "output_type": "stream",
     "text": [
      " * Running on http://0.0.0.0:5000/ (Press CTRL+C to quit)\n"
     ]
    }
   ],
   "source": [
    "app.run(host = '0.0.0.0', port = 5000)"
   ]
  },
  {
   "cell_type": "code",
   "execution_count": null,
   "metadata": {
    "collapsed": true
   },
   "outputs": [],
   "source": []
  }
 ],
 "metadata": {
  "kernelspec": {
   "display_name": "Python [conda root]",
   "language": "python",
   "name": "conda-root-py"
  },
  "language_info": {
   "codemirror_mode": {
    "name": "ipython",
    "version": 2
   },
   "file_extension": ".py",
   "mimetype": "text/x-python",
   "name": "python",
   "nbconvert_exporter": "python",
   "pygments_lexer": "ipython2",
   "version": "2.7.14"
  }
 },
 "nbformat": 4,
 "nbformat_minor": 2
}
